{
  "cells": [
    {
      "cell_type": "markdown",
      "metadata": {
        "id": "view-in-github",
        "colab_type": "text"
      },
      "source": [
        "<a href=\"https://colab.research.google.com/github/FireandIceAK/231/blob/master/abc.ipynb\" target=\"_parent\"><img src=\"https://colab.research.google.com/assets/colab-badge.svg\" alt=\"Open In Colab\"/></a>"
      ]
    },
    {
      "cell_type": "markdown",
      "metadata": {
        "id": "94VBKEJy5p8T"
      },
      "source": [
        "*Теоретический материал:* https://youtu.be/fp5u-o3p910?t=866"
      ]
    },
    {
      "cell_type": "markdown",
      "metadata": {
        "id": "vBvuSQtdCyPq"
      },
      "source": [
        "Чтобы запускать и редактировать код, сохраните копию этого ноутбука себе (File->Save a copy in Drive...). Свою копию вы сможете изменять и запускать."
      ]
    },
    {
      "cell_type": "markdown",
      "metadata": {
        "id": "jjqH_JaURnnK"
      },
      "source": [
        "# Создание простой нейронной сети\n",
        "\n",
        "*Разбор данного раздела:* https://youtu.be/fp5u-o3p910?t=2000\n",
        "\n"
      ]
    },
    {
      "cell_type": "code",
      "execution_count": 63,
      "metadata": {
        "id": "hBMkkgdRRgZd",
        "pycharm": {
          "is_executing": true
        }
      },
      "outputs": [],
      "source": [
        "from tensorflow.keras.datasets import mnist #Библиотека с базой Mnist\n",
        "from tensorflow.keras.models import Sequential # Подлючаем класс создания модели Sequential\n",
        "from tensorflow.keras.layers import Dense # Подключаем класс Dense - полносвязный слой\n",
        "from tensorflow.keras.optimizers import Adam # Подключаем оптимизатор Adam\n",
        "from tensorflow.keras import utils #Утилиты для to_categorical\n",
        "from tensorflow.keras.preprocessing import image #Для отрисовки изображения\n",
        "import numpy as np # Подключаем библиотеку numpy\n",
        "import pylab # Модуль для построения графиков\n",
        "from mpl_toolkits.mplot3d import Axes3D # Модуль для трехмерной графики\n",
        "from google.colab import files #Для загрузки своей картинки\n",
        "import matplotlib.pyplot as plt #Отрисовка изображений\n",
        "from PIL import Image #Отрисовка изображений\n",
        "#Отрисовывать изображения в ноутбуке, а не в консоль или файл\n",
        "%matplotlib inline "
      ]
    },
    {
      "cell_type": "code",
      "execution_count": 64,
      "metadata": {
        "id": "DdB70L9oTpaX",
        "pycharm": {
          "is_executing": true
        }
      },
      "outputs": [],
      "source": [
        "model = Sequential() # Создаем пустую модель нейронной сети\n",
        "model.add(Dense(2, input_dim = 2, use_bias=False)) # Добавляем полносвязный слой с 2мя нейронами (указываем, что на вход принимаем вектор из двух элементв) и отключаем использование нейрона смещения\n",
        "model.add(Dense(1, use_bias=False)) # Добавляем полносвязный слой с 1 нейроном (выходной слой нашей модели), здесь уже не требуется указывать размерность входных данных, и также отключаем использование нейрона смещения"
      ]
    },
    {
      "cell_type": "code",
      "execution_count": 65,
      "metadata": {
        "colab": {
          "base_uri": "https://localhost:8080/"
        },
        "id": "C1BPKfEVU5k-",
        "outputId": "a88d394d-e03e-4879-bd02-b03ad331fa63",
        "pycharm": {
          "is_executing": true
        }
      },
      "outputs": [
        {
          "output_type": "stream",
          "name": "stdout",
          "text": [
            "Model: \"sequential_6\"\n",
            "_________________________________________________________________\n",
            " Layer (type)                Output Shape              Param #   \n",
            "=================================================================\n",
            " dense_11 (Dense)            (None, 2)                 4         \n",
            "                                                                 \n",
            " dense_12 (Dense)            (None, 1)                 2         \n",
            "                                                                 \n",
            "=================================================================\n",
            "Total params: 6\n",
            "Trainable params: 6\n",
            "Non-trainable params: 0\n",
            "_________________________________________________________________\n"
          ]
        }
      ],
      "source": [
        "model.summary() # Отобразим данные созданной модели"
      ]
    },
    {
      "cell_type": "code",
      "execution_count": 66,
      "metadata": {
        "colab": {
          "base_uri": "https://localhost:8080/"
        },
        "id": "3qmopcttVC9A",
        "outputId": "7231e544-1ec1-4b93-9905-ebb5bb7be730",
        "pycharm": {
          "is_executing": true
        }
      },
      "outputs": [
        {
          "output_type": "stream",
          "name": "stdout",
          "text": [
            "[array([[-1.1380227 , -0.50095564],\n",
            "       [-0.25957805,  0.7911416 ]], dtype=float32), array([[0.5205941],\n",
            "       [0.8114618]], dtype=float32)]\n"
          ]
        }
      ],
      "source": [
        "weights = model.get_weights() # Получим веса нашей модели (генерируются случайным образом)\n",
        "print(weights) # Отбразим сгенерированные веса"
      ]
    },
    {
      "cell_type": "code",
      "execution_count": 67,
      "metadata": {
        "colab": {
          "base_uri": "https://localhost:8080/"
        },
        "id": "zH25v4fV7l7R",
        "outputId": "825faf35-d116-49a1-b1b7-d32879ef049e",
        "pycharm": {
          "is_executing": true
        }
      },
      "outputs": [
        {
          "output_type": "stream",
          "name": "stdout",
          "text": [
            "[array([[ 0.42, -0.56],\n",
            "       [ 0.15,  0.83]]), array([[0.93],\n",
            "       [0.02]])]\n"
          ]
        }
      ],
      "source": [
        "w1 = 0.42 # Зададим коэф. w1 вручную\n",
        "w2 = 0.15 # Зададим коэф. w2 вручную\n",
        "w3 = -0.56 # Зададим коэф. w3 вручную\n",
        "w4 = 0.83 # Зададим коэф. w4 вручную\n",
        "w5 = 0.93 # Зададим коэф. w5 вручную\n",
        "w6 = 0.02 # Зададим коэф. w6 вручную\n",
        "new_weight = [np.array([[w1,w3],[w2,w4]]), np.array([[w5],[w6]])] # Сформируем список весов\n",
        "print(new_weight) # Отобразим сформированный список весов\n",
        "model.set_weights(new_weight) # Устанавливаем модели свои собственные веса"
      ]
    },
    {
      "cell_type": "code",
      "execution_count": 68,
      "metadata": {
        "colab": {
          "base_uri": "https://localhost:8080/"
        },
        "id": "yn9ZUfZh7saO",
        "outputId": "a5aa7b5d-5623-42b4-e552-58e11acb98d2",
        "pycharm": {
          "is_executing": true
        }
      },
      "outputs": [
        {
          "output_type": "execute_result",
          "data": {
            "text/plain": [
              "(1, 2)"
            ]
          },
          "metadata": {},
          "execution_count": 68
        }
      ],
      "source": [
        "x1 = 7.2 # Установим значение x1\n",
        "x2 = -5.8 # Установим значение x2\n",
        "x_train = np.expand_dims(np.array([x1, x2]), 0) # Создадим набор данных для последующего обучения нейронной сети\n",
        "x_train.shape"
      ]
    },
    {
      "cell_type": "code",
      "execution_count": 69,
      "metadata": {
        "colab": {
          "base_uri": "https://localhost:8080/"
        },
        "id": "_HHEXTgN54ft",
        "outputId": "7731f06e-a0b2-4edc-ddc8-4d3ae9c460a7",
        "pycharm": {
          "is_executing": true
        }
      },
      "outputs": [
        {
          "output_type": "execute_result",
          "data": {
            "text/plain": [
              "(2,)"
            ]
          },
          "metadata": {},
          "execution_count": 69
        }
      ],
      "source": [
        "k = np.array([x1, x2])\n",
        "k.shape"
      ]
    },
    {
      "cell_type": "code",
      "execution_count": 70,
      "metadata": {
        "colab": {
          "base_uri": "https://localhost:8080/"
        },
        "id": "fxXIPXU9KB7Y",
        "outputId": "9326fcf7-c8a1-4027-c7dd-b309ee65956e",
        "pycharm": {
          "is_executing": true
        }
      },
      "outputs": [
        {
          "output_type": "stream",
          "name": "stdout",
          "text": [
            "[[ 7.2 -5.8]]\n",
            "[ 7.2 -5.8]\n"
          ]
        }
      ],
      "source": [
        "print(x_train)\n",
        "print(k)"
      ]
    },
    {
      "cell_type": "code",
      "execution_count": 71,
      "metadata": {
        "colab": {
          "base_uri": "https://localhost:8080/"
        },
        "id": "ceKeGvAr2lOa",
        "outputId": "d2bca368-eb43-43bd-82e8-86e7a28ba473",
        "pycharm": {
          "is_executing": true
        }
      },
      "outputs": [
        {
          "output_type": "stream",
          "name": "stderr",
          "text": [
            "WARNING:tensorflow:6 out of the last 6 calls to <function Model.make_predict_function.<locals>.predict_function at 0x7f5f22349950> triggered tf.function retracing. Tracing is expensive and the excessive number of tracings could be due to (1) creating @tf.function repeatedly in a loop, (2) passing tensors with different shapes, (3) passing Python objects instead of tensors. For (1), please define your @tf.function outside of the loop. For (2), @tf.function has experimental_relax_shapes=True option that relaxes argument shapes that can avoid unnecessary retracing. For (3), please refer to https://www.tensorflow.org/guide/function#controlling_retracing and https://www.tensorflow.org/api_docs/python/tf/function for  more details.\n"
          ]
        },
        {
          "output_type": "stream",
          "name": "stdout",
          "text": [
            "[[1.8262998]]\n"
          ]
        }
      ],
      "source": [
        "y_linear = model.predict(x_train) # Получим значение выхода сети, передав на вход вектор из двух элементов [x1, x2]\n",
        "print(y_linear) # Выведем результат работы сети"
      ]
    },
    {
      "cell_type": "code",
      "execution_count": 72,
      "metadata": {
        "colab": {
          "base_uri": "https://localhost:8080/"
        },
        "id": "-jUM96fsKgh5",
        "outputId": "46c1ef90-4646-4b48-8b6b-06d2dc3ae9db",
        "pycharm": {
          "is_executing": true
        }
      },
      "outputs": [
        {
          "output_type": "execute_result",
          "data": {
            "text/plain": [
              "<tf.Tensor: shape=(1, 1), dtype=float32, numpy=array([[1.8262998]], dtype=float32)>"
            ]
          },
          "metadata": {},
          "execution_count": 72
        }
      ],
      "source": [
        "model(x_train)"
      ]
    },
    {
      "cell_type": "markdown",
      "metadata": {
        "id": "0Y6dbpFVBsHK"
      },
      "source": [
        "**Посчитаем выход сети вручную**"
      ]
    },
    {
      "cell_type": "code",
      "execution_count": 73,
      "metadata": {
        "colab": {
          "base_uri": "https://localhost:8080/"
        },
        "id": "B4288wzs8JA2",
        "outputId": "1b86db6d-3f54-42f3-ac32-f1481a03c202",
        "pycharm": {
          "is_executing": true
        }
      },
      "outputs": [
        {
          "output_type": "stream",
          "name": "stdout",
          "text": [
            "2.154\n",
            "-8.846\n"
          ]
        }
      ],
      "source": [
        "N1 = x1 * w1 + x2 * w2 # Получим значение скрытого нейрона H1\n",
        "N2 = x1 * w3 + x2 * w4 # Получим значение скрытого нейрона H2\n",
        "print(N1) # Выведем значение нейрона H1\n",
        "print(N2) # Выведем значение нейрона H2"
      ]
    },
    {
      "cell_type": "code",
      "execution_count": 74,
      "metadata": {
        "colab": {
          "base_uri": "https://localhost:8080/"
        },
        "id": "TR6mU4wq9E3O",
        "outputId": "7dd17c08-67bb-4792-a4f8-e9ac31db8b7e",
        "pycharm": {
          "is_executing": true
        }
      },
      "outputs": [
        {
          "output_type": "stream",
          "name": "stdout",
          "text": [
            "1.8263000000000003\n"
          ]
        }
      ],
      "source": [
        "Y_linear = N1 * w5 + N2 * w6 # Считаем выход сети\n",
        "print(Y_linear) # Отобразим вывод сети, посчитанный вручную"
      ]
    },
    {
      "cell_type": "code",
      "execution_count": 75,
      "metadata": {
        "colab": {
          "base_uri": "https://localhost:8080/"
        },
        "id": "-NxpXoS9HoIz",
        "outputId": "674aa8f3-a760-4b09-ad3d-8a673c1d28d2",
        "pycharm": {
          "is_executing": true
        }
      },
      "outputs": [
        {
          "output_type": "stream",
          "name": "stdout",
          "text": [
            "Значение предикта модели: 1.8263\n",
            "Значение посчитанное вручную: 1.8263\n"
          ]
        }
      ],
      "source": [
        "print('Значение предикта модели:', round(y_linear[0][0], 6))\n",
        "print('Значение посчитанное вручную:', round(Y_linear, 6))"
      ]
    },
    {
      "cell_type": "markdown",
      "metadata": {
        "id": "c4pg0HUQCdFk"
      },
      "source": [
        "# Функции активации"
      ]
    },
    {
      "cell_type": "markdown",
      "metadata": {
        "id": "MMkWv4VhC2ti"
      },
      "source": [
        "## sigmoid (сигмоид)\n",
        "\n",
        "*Разбор данного раздела:* https://youtu.be/fp5u-o3p910?t=3804\n",
        "\n",
        "\n",
        "![alt text](https://wikimedia.org/api/rest_v1/media/math/render/svg/36f792c44c0a7069ad01386452569d6e34fe95d7) ![alt text](https://upload.wikimedia.org/wikipedia/commons/thumb/5/5b/Activation_logistic.svg/120px-Activation_logistic.svg.png)"
      ]
    },
    {
      "cell_type": "code",
      "execution_count": 76,
      "metadata": {
        "id": "Z5wJ5XJ59UW_",
        "pycharm": {
          "is_executing": true
        }
      },
      "outputs": [],
      "source": [
        "def sigmoid(x): # Зададим функцию расчета сигмоиды\n",
        "  return 1/(1+np.e ** (-x) )"
      ]
    },
    {
      "cell_type": "code",
      "execution_count": 77,
      "metadata": {
        "colab": {
          "base_uri": "https://localhost:8080/"
        },
        "id": "CEI5bt2a92dP",
        "outputId": "ce84d6fb-c220-4282-8223-ef337904d744",
        "pycharm": {
          "is_executing": true
        }
      },
      "outputs": [
        {
          "output_type": "stream",
          "name": "stdout",
          "text": [
            "Model: \"sequential_7\"\n",
            "_________________________________________________________________\n",
            " Layer (type)                Output Shape              Param #   \n",
            "=================================================================\n",
            " dense_13 (Dense)            (None, 2)                 4         \n",
            "                                                                 \n",
            " dense_14 (Dense)            (None, 1)                 2         \n",
            "                                                                 \n",
            "=================================================================\n",
            "Total params: 6\n",
            "Trainable params: 6\n",
            "Non-trainable params: 0\n",
            "_________________________________________________________________\n"
          ]
        }
      ],
      "source": [
        "# Пересоздадим нейронную сеть, указав в качестве функции активации сигмоиду\n",
        "model_sigmoid = Sequential() # Создаем пустую модель нейронной сети\n",
        "model_sigmoid.add(Dense(2, input_dim = 2, activation='sigmoid', use_bias=False)) # Добавляем полносвязный слой с 2мя нейронами (указываем, что на вход принимаем вектор из двух элементов), функция активация - sigmoid,  и отключаем использование нейрона смещения\n",
        "model_sigmoid.add(Dense(1, activation='sigmoid', use_bias=False)) # Добавляем полносвязный слой с 1 нейроном (выходной слой нашей модели), здесь уже не требуется указывать размерность входных данных, функция активация - sigmoid, и также отключаем использование нейрона смещения\n",
        "model_sigmoid.summary() # Отобразим структуру созданной сети (должна совпадать с первой моделью)\n",
        "model_sigmoid.set_weights(new_weight) # Установим посчитанные выше веса"
      ]
    },
    {
      "cell_type": "code",
      "execution_count": 78,
      "metadata": {
        "colab": {
          "base_uri": "https://localhost:8080/"
        },
        "id": "Hrnda0PxGppt",
        "outputId": "ca345087-b5e0-4e54-f374-482f1181e6af",
        "pycharm": {
          "is_executing": true
        }
      },
      "outputs": [
        {
          "output_type": "stream",
          "name": "stdout",
          "text": [
            "[[0.69705683]]\n"
          ]
        }
      ],
      "source": [
        "# Выполним те же самые шаги, что и выше\n",
        "y_sigmoid = model_sigmoid.predict(x_train) # Получим значение выхода сети, передав на вход вектор из двух элементов [x1, x2]\n",
        "print(y_sigmoid) # Выведем результат работы сети"
      ]
    },
    {
      "cell_type": "markdown",
      "metadata": {
        "id": "ugSnFfUK7puk"
      },
      "source": [
        "*Посчитаем значение выхода сети вручную*"
      ]
    },
    {
      "cell_type": "code",
      "execution_count": 79,
      "metadata": {
        "colab": {
          "base_uri": "https://localhost:8080/"
        },
        "id": "6sqyNy5jHnI-",
        "outputId": "bae999e3-4f20-49c7-9d3b-60cb9611762e",
        "pycharm": {
          "is_executing": true
        }
      },
      "outputs": [
        {
          "output_type": "stream",
          "name": "stdout",
          "text": [
            "0.8960419706149801\n",
            "0.00014393569134056814\n"
          ]
        }
      ],
      "source": [
        "H1_sigmoid = sigmoid(x1 * w1 + x2 * w2) # Получим значение скрытого нейрона H1\n",
        "H2_sigmoid = sigmoid(x1 * w3 + x2 * w4) # Получим значение скрытого нейрона H2\n",
        "print(H1_sigmoid) # Выведем значение нейрона H1\n",
        "print(H2_sigmoid) # Выведем значение нейрона H2"
      ]
    },
    {
      "cell_type": "code",
      "execution_count": 80,
      "metadata": {
        "colab": {
          "base_uri": "https://localhost:8080/"
        },
        "id": "a6Vs6rr-IBYM",
        "outputId": "f740b57a-464d-40cc-ebff-ad7dd8dbc20c",
        "pycharm": {
          "is_executing": true
        }
      },
      "outputs": [
        {
          "output_type": "stream",
          "name": "stdout",
          "text": [
            "0.6970568720142808\n"
          ]
        }
      ],
      "source": [
        "Y_sigmoid = sigmoid(H1_sigmoid * w5 + H2_sigmoid * w6) # Считаем выход сети\n",
        "print(Y_sigmoid) # Отобразим вывод сети, посчитанный вручную"
      ]
    },
    {
      "cell_type": "code",
      "execution_count": 81,
      "metadata": {
        "colab": {
          "base_uri": "https://localhost:8080/"
        },
        "id": "i81i16C6ITjG",
        "outputId": "64990d01-64e4-4f52-968f-f5d9355ec638",
        "pycharm": {
          "is_executing": true
        }
      },
      "outputs": [
        {
          "output_type": "stream",
          "name": "stdout",
          "text": [
            "Значение предикта модели: 0.697057\n",
            "Значение посчитанное вручную: 0.697057\n"
          ]
        }
      ],
      "source": [
        "print('Значение предикта модели:', round(y_sigmoid[0][0], 6))\n",
        "print('Значение посчитанное вручную:', round(Y_sigmoid, 6))"
      ]
    },
    {
      "cell_type": "markdown",
      "metadata": {
        "id": "iD7hR5hXNLUe"
      },
      "source": [
        "## relu (линейный выпрямитель)\n",
        "\n",
        "*Разбор данного раздела:* https://youtu.be/fp5u-o3p910?t=3985\n",
        "\n",
        "\n",
        "![alt text](https://wikimedia.org/api/rest_v1/media/math/render/svg/f4353f4e3e484130504049599d2e7b040793e1eb) ![alt text](https://upload.wikimedia.org/wikipedia/commons/thumb/f/fe/Activation_rectified_linear.svg/120px-Activation_rectified_linear.svg.png)"
      ]
    },
    {
      "cell_type": "code",
      "execution_count": 82,
      "metadata": {
        "id": "2ZayzTYWNKYv",
        "pycharm": {
          "is_executing": true
        }
      },
      "outputs": [],
      "source": [
        "def relu(x): # Зададим функцию расчета сигмоиды\n",
        "  return np.clip(x, 0, np.inf)"
      ]
    },
    {
      "cell_type": "code",
      "execution_count": 83,
      "metadata": {
        "colab": {
          "base_uri": "https://localhost:8080/"
        },
        "id": "-uLeuUBMOjzf",
        "outputId": "b9af4b65-9868-4fe2-daac-849b8756dec7",
        "pycharm": {
          "is_executing": true
        }
      },
      "outputs": [
        {
          "output_type": "stream",
          "name": "stdout",
          "text": [
            "Model: \"sequential_8\"\n",
            "_________________________________________________________________\n",
            " Layer (type)                Output Shape              Param #   \n",
            "=================================================================\n",
            " dense_15 (Dense)            (None, 2)                 4         \n",
            "                                                                 \n",
            " dense_16 (Dense)            (None, 1)                 2         \n",
            "                                                                 \n",
            "=================================================================\n",
            "Total params: 6\n",
            "Trainable params: 6\n",
            "Non-trainable params: 0\n",
            "_________________________________________________________________\n"
          ]
        }
      ],
      "source": [
        "# Пересоздадим нейронную сеть, указав в качестве функции активации relu\n",
        "model_relu = Sequential() # Создаем пустую модель нейронной сети\n",
        "model_relu.add(Dense(2, input_dim = 2, activation='relu', use_bias=False)) # Добавляем полносвязный слой с 2мя нейронами (указываем, что на вход принимаем вектор из двух элементв), функция активация - relu,  и отключаем использование нейрона смещения\n",
        "model_relu.add(Dense(1, activation='relu', use_bias=False)) # Добавляем полносвязный слой с 1 нейроном (выходной слой нашей модели), здесь уже не требуется указывать размерность входных данных, функция активация - relu, и также отключаем использование нейрона смещения\n",
        "model_relu.summary() # Отобразим структуру созданной сети (должна совпадать с первой моделью)\n",
        "model_relu.set_weights(new_weight) # Установим посчитанные выше веса"
      ]
    },
    {
      "cell_type": "code",
      "execution_count": 84,
      "metadata": {
        "colab": {
          "base_uri": "https://localhost:8080/"
        },
        "id": "vcTGL05mOp79",
        "outputId": "215ba9dd-6fb8-4a39-c931-55593d896286",
        "pycharm": {
          "is_executing": true
        }
      },
      "outputs": [
        {
          "output_type": "stream",
          "name": "stdout",
          "text": [
            "[[2.0032198]]\n"
          ]
        }
      ],
      "source": [
        "# Выполним теже самые шаги, что и выше\n",
        "y_relu = model_relu.predict(x_train) # Получим значение выхода сети, передав на вход вектор из двух элементов [x1, x2]\n",
        "print(y_relu) # Выведем результат работы сети"
      ]
    },
    {
      "cell_type": "markdown",
      "metadata": {
        "id": "44A3y5NZ7zl4"
      },
      "source": [
        "*Посчитаем значение выхода сети вручную*"
      ]
    },
    {
      "cell_type": "code",
      "execution_count": 85,
      "metadata": {
        "colab": {
          "base_uri": "https://localhost:8080/"
        },
        "id": "3crw4GxLOv31",
        "outputId": "377782a0-dc71-449e-dd99-0f1a234fd605",
        "pycharm": {
          "is_executing": true
        }
      },
      "outputs": [
        {
          "output_type": "stream",
          "name": "stdout",
          "text": [
            "2.154\n",
            "0.0\n"
          ]
        }
      ],
      "source": [
        "H1_relu = relu(x1 * w1 + x2 * w2) # Получим значение скрытого нейрона H1\n",
        "H2_relu = relu(x1 * w3 + x2 * w4) # Получим значение скрытого нейрона H2\n",
        "print(H1_relu) # Выведем значение нейрона H1\n",
        "print(H2_relu) # Выведем значение нейрона H2"
      ]
    },
    {
      "cell_type": "code",
      "execution_count": 86,
      "metadata": {
        "colab": {
          "base_uri": "https://localhost:8080/"
        },
        "id": "phDRSz7IO0_F",
        "outputId": "626666d5-cc32-4106-f62d-f259ade23be6",
        "pycharm": {
          "is_executing": true
        }
      },
      "outputs": [
        {
          "output_type": "stream",
          "name": "stdout",
          "text": [
            "2.0032200000000002\n"
          ]
        }
      ],
      "source": [
        "Y_relu = relu(H1_relu * w5 + H2_relu * w6) # Считаем выход сети\n",
        "print(Y_relu) # Отобразим вывод сети, посчитанный вручную"
      ]
    },
    {
      "cell_type": "code",
      "execution_count": 87,
      "metadata": {
        "colab": {
          "base_uri": "https://localhost:8080/"
        },
        "id": "OrDqUr9iPEQT",
        "outputId": "219863e4-7245-4462-ec97-23b3182d57c4",
        "pycharm": {
          "is_executing": true
        }
      },
      "outputs": [
        {
          "output_type": "stream",
          "name": "stdout",
          "text": [
            "Значение предикта модели: 2.00322\n",
            "Значение посчитанное вручную: 2.00322\n"
          ]
        }
      ],
      "source": [
        "print('Значение предикта модели:', round(y_relu[0][0], 6))\n",
        "print('Значение посчитанное вручную:', round(Y_relu, 6))"
      ]
    },
    {
      "cell_type": "markdown",
      "metadata": {
        "id": "rrWmNM6jKBrc"
      },
      "source": [
        "## tanh (гиперболический тангенс)\n",
        "\n",
        "*Разбор данного раздела:* https://youtu.be/fp5u-o3p910?t=4146\n",
        "\n",
        "\n",
        "\n",
        "![alt text](https://wikimedia.org/api/rest_v1/media/math/render/svg/5fd13a1c501e64926c12d52b620f1e656251fc15) ![alt text](https://upload.wikimedia.org/wikipedia/commons/thumb/c/cb/Activation_tanh.svg/120px-Activation_tanh.svg.png)"
      ]
    },
    {
      "cell_type": "code",
      "execution_count": 88,
      "metadata": {
        "id": "hNh2OiDSJuHR",
        "pycharm": {
          "is_executing": true
        }
      },
      "outputs": [],
      "source": [
        "def th(x): # Зададим функцию расчета гиперболического тангенса\n",
        "  return (np.e ** x - np.e ** (-x)) / (np.e ** x + np.e ** (-x))"
      ]
    },
    {
      "cell_type": "code",
      "execution_count": 89,
      "metadata": {
        "colab": {
          "base_uri": "https://localhost:8080/"
        },
        "id": "WkQLEOLbKv3p",
        "outputId": "2e4cf096-6d7a-428e-e54b-634172e391b2",
        "pycharm": {
          "is_executing": true
        }
      },
      "outputs": [
        {
          "output_type": "stream",
          "name": "stdout",
          "text": [
            "Model: \"sequential_9\"\n",
            "_________________________________________________________________\n",
            " Layer (type)                Output Shape              Param #   \n",
            "=================================================================\n",
            " dense_17 (Dense)            (None, 2)                 4         \n",
            "                                                                 \n",
            " dense_18 (Dense)            (None, 1)                 2         \n",
            "                                                                 \n",
            "=================================================================\n",
            "Total params: 6\n",
            "Trainable params: 6\n",
            "Non-trainable params: 0\n",
            "_________________________________________________________________\n"
          ]
        }
      ],
      "source": [
        "# Пересоздадим нейронную сеть, указав в качестве функции активации - tanh\n",
        "model_th = Sequential() # Создаем пустую модель нейронной сети\n",
        "model_th.add(Dense(2, input_dim = 2, activation=th, use_bias=False)) # Добавляем полносвязный слой с 2мя нейронами (указываем, что на вход принимаем вектор из двух элементв), функция активация - tanh,  и отключаем использование нейрона смещения\n",
        "model_th.add(Dense(1, activation=th, use_bias=False)) # Добавляем полносвязный слой с 1 нейроном (выходной слой нашей модели) (здесь уже не требуется указывать размерность входных данных), функция активация - tanh, и так же отключаем использование нейрона смещения\n",
        "model_th.summary() # Отобразим структуру созданной сети (должна совпадать с первой моделью)\n",
        "model_th.set_weights(new_weight) # Установим посчитанные выше веса"
      ]
    },
    {
      "cell_type": "code",
      "execution_count": 90,
      "metadata": {
        "colab": {
          "base_uri": "https://localhost:8080/"
        },
        "id": "kaB_JYZkK1SX",
        "outputId": "c122598e-e511-4005-e744-589273eb546b",
        "pycharm": {
          "is_executing": true
        }
      },
      "outputs": [
        {
          "output_type": "stream",
          "name": "stdout",
          "text": [
            "[[0.70906264]]\n"
          ]
        }
      ],
      "source": [
        "# Выполним теже самые шаги, что и выше\n",
        "y_th = model_th.predict(x_train) # Получим значение выхода сети, передав на вход вектор из двух элементов [x1, x2]\n",
        "print(y_th) # Выведем результат работы сети"
      ]
    },
    {
      "cell_type": "markdown",
      "metadata": {
        "id": "IPZ23XCM73Tx"
      },
      "source": [
        "*Посчитаем значение выхода сети вручную*"
      ]
    },
    {
      "cell_type": "code",
      "execution_count": 91,
      "metadata": {
        "colab": {
          "base_uri": "https://localhost:8080/"
        },
        "id": "E0LSRNn7K-0H",
        "outputId": "36d758ea-4122-440e-e498-c263f6115ea8",
        "pycharm": {
          "is_executing": true
        }
      },
      "outputs": [
        {
          "output_type": "stream",
          "name": "stdout",
          "text": [
            "0.9734366670870239\n",
            "-0.9999999585531038\n"
          ]
        }
      ],
      "source": [
        "H1_th = th(x1 * w1 + x2 * w2) # Получим значение скрытого нейрона H1\n",
        "H2_th = th(x1 * w3 + x2 * w4) # Получим значение скрытого нейрона H2\n",
        "print(H1_th) # Выведем значение нейрона H1\n",
        "print(H2_th) # Выведем значение нейрона H2"
      ]
    },
    {
      "cell_type": "code",
      "execution_count": 92,
      "metadata": {
        "colab": {
          "base_uri": "https://localhost:8080/"
        },
        "id": "lQtXpfc_LFEY",
        "outputId": "ac41715c-e4ce-47a1-ef04-70481e915b90",
        "pycharm": {
          "is_executing": true
        }
      },
      "outputs": [
        {
          "output_type": "stream",
          "name": "stdout",
          "text": [
            "0.709062603515898\n"
          ]
        }
      ],
      "source": [
        "Y_th = th(H1_th * w5 + H2_th * w6) # Считаем выход сети\n",
        "print(Y_th) # Отобразим вывод сети, посчитанный вручную"
      ]
    },
    {
      "cell_type": "code",
      "execution_count": 93,
      "metadata": {
        "colab": {
          "base_uri": "https://localhost:8080/"
        },
        "id": "ZxXWF2yfLOGo",
        "outputId": "74e7f455-5e1b-4cd2-ac96-eeb6261e5859",
        "pycharm": {
          "is_executing": true
        }
      },
      "outputs": [
        {
          "output_type": "stream",
          "name": "stdout",
          "text": [
            "Значение предикта модели: 0.709063\n",
            "Значение посчитанное вручную: 0.709063\n"
          ]
        }
      ],
      "source": [
        "print('Значение предикта модели:', round(y_th[0][0], 6))\n",
        "print('Значение посчитанное вручную:', round(Y_th, 6))"
      ]
    },
    {
      "cell_type": "markdown",
      "metadata": {
        "id": "rstrtRs2O1so"
      },
      "source": [
        "# Функции ошибок\n",
        "\n",
        "*Разбор данного раздела:* https://youtu.be/fp5u-o3p910?t=5473\n"
      ]
    },
    {
      "cell_type": "code",
      "execution_count": 94,
      "metadata": {
        "id": "QD6QYS68LRIn",
        "pycharm": {
          "is_executing": true
        }
      },
      "outputs": [],
      "source": [
        "# Зададим значение, которое должна возвращать наша сеть\n",
        "y_real = 0.34"
      ]
    },
    {
      "cell_type": "code",
      "execution_count": 95,
      "metadata": {
        "colab": {
          "base_uri": "https://localhost:8080/"
        },
        "id": "BT5IWsYuQLyH",
        "outputId": "1d765584-fdb0-45b1-9c88-93c8b2c924e6",
        "pycharm": {
          "is_executing": true
        }
      },
      "outputs": [
        {
          "output_type": "stream",
          "name": "stdout",
          "text": [
            "Значение, к которому должна стремиться наша модель: 0.34\n",
            "Текущее значение, которое возвращает наша модель: 2.0032198\n"
          ]
        }
      ],
      "source": [
        "# Возьмем значение, которое возвращает одна из рассмотренных выше сетей, например, сеть model_relu\n",
        "print ('Значение, к которому должна стремиться наша модель:', y_real)\n",
        "print ('Текущее значение, которое возвращает наша модель:', y_relu[0][0])"
      ]
    },
    {
      "cell_type": "code",
      "execution_count": 96,
      "metadata": {
        "colab": {
          "base_uri": "https://localhost:8080/"
        },
        "id": "6nnjNKvpUJ-_",
        "outputId": "8bc6d0b6-146b-44b4-d899-7d480ab84e71",
        "pycharm": {
          "is_executing": true
        }
      },
      "outputs": [
        {
          "output_type": "stream",
          "name": "stdout",
          "text": [
            "[0.34]\n",
            "[2.0032198]\n"
          ]
        }
      ],
      "source": [
        "# Создадим список y_true, где будут храниться значения, к которым должна стремиться модель, и список y_pred, где будут храниться текущие значения, которые возвращает модель\n",
        "y_true = [y_real]\n",
        "y_pred = [y_relu[0][0]]\n",
        "print(y_true)\n",
        "print(y_pred)"
      ]
    },
    {
      "cell_type": "markdown",
      "metadata": {
        "id": "5BUXluCMWpMB"
      },
      "source": [
        "## MAE\n",
        "\n",
        "*Разбор данного раздела:* https://youtu.be/fp5u-o3p910?t=5863\n",
        "\n",
        "mean_absolute_error (средняя абсолютная ошибка)\n",
        "\n",
        "![alt text](https://wikimedia.org/api/rest_v1/media/math/render/svg/3ef87b78a9af65e308cf4aa9acf6f203efbdeded)\n"
      ]
    },
    {
      "cell_type": "code",
      "execution_count": 97,
      "metadata": {
        "colab": {
          "base_uri": "https://localhost:8080/"
        },
        "id": "yNg7t064VQZi",
        "outputId": "892f98bf-cdbb-443c-99c5-74cd51d02ec5",
        "pycharm": {
          "is_executing": true
        }
      },
      "outputs": [
        {
          "output_type": "stream",
          "name": "stdout",
          "text": [
            "Значение ошибки:  1.6632198429107665\n"
          ]
        }
      ],
      "source": [
        "n = 1 # Задаем количество элементов\n",
        "mae = 0 # Инициализируем начальное значение ошибки\n",
        "for i in range(n): # Проходим по всем элементам\n",
        "  mae += abs(y_true[i] - y_pred[i]) # Увеличиваем значение ошибки для текущего элемента\n",
        "mae /= n # Считаем среднее значение\n",
        "print ('Значение ошибки: ', mae) # Выводим посчитанное значение ошибки"
      ]
    },
    {
      "cell_type": "code",
      "execution_count": 98,
      "metadata": {
        "colab": {
          "base_uri": "https://localhost:8080/"
        },
        "id": "ej--v7bkXcz-",
        "outputId": "93e634c7-7e02-48a5-a0f2-60a21a7ed588",
        "pycharm": {
          "is_executing": true
        }
      },
      "outputs": [
        {
          "output_type": "stream",
          "name": "stdout",
          "text": [
            "1.6632198429107665\n"
          ]
        }
      ],
      "source": [
        "# Так как у нас всего одно выходное значение и один входной набор данных, то можно записать просто:\n",
        "mae2 = abs(y_real - y_relu[0][0]) # Считаем значение ошибки для единичного набора данных\n",
        "print(mae2) # Выводим посчитанное значение"
      ]
    },
    {
      "cell_type": "markdown",
      "metadata": {
        "id": "dntk9WK6TbA-"
      },
      "source": [
        "## MSE\n",
        "\n",
        "*Разбор данного раздела:* https://youtu.be/fp5u-o3p910?t=5968\n",
        "\n",
        "mean_squared_error (среднеквадратическая ошибка)\n",
        "\n",
        "![alt text](https://wikimedia.org/api/rest_v1/media/math/render/svg/e258221518869aa1c6561bb75b99476c4734108e)"
      ]
    },
    {
      "cell_type": "code",
      "execution_count": 99,
      "metadata": {
        "id": "V_0x3TgpQ2Xw",
        "pycharm": {
          "is_executing": true
        },
        "colab": {
          "base_uri": "https://localhost:8080/"
        },
        "outputId": "68eb30d3-da54-4d62-9d17-4b1b9f98c6a6"
      },
      "outputs": [
        {
          "output_type": "stream",
          "name": "stdout",
          "text": [
            "Значение ошибки:  2.766300245852115\n"
          ]
        }
      ],
      "source": [
        "n = 1 # Задаем количество элементов\n",
        "mse = 0 # Инициализируем начальное значение ошибки\n",
        "for i in range(n): # Проходим по всем элементам\n",
        "  mse += (y_true[i] - y_pred[i]) ** 2 # Увеличиваем значение ошибки для текущего элемента\n",
        "mse /= n # Считаем среднее значение\n",
        "print ('Значение ошибки: ', mse) # Выводим посчитанное значение ошибки"
      ]
    },
    {
      "cell_type": "code",
      "execution_count": 100,
      "metadata": {
        "colab": {
          "base_uri": "https://localhost:8080/"
        },
        "id": "CUBAMFsIU3_I",
        "outputId": "f57c23a1-9b66-4a8a-e045-052d242fd8a4",
        "pycharm": {
          "is_executing": true
        }
      },
      "outputs": [
        {
          "output_type": "stream",
          "name": "stdout",
          "text": [
            "2.766300245852115\n"
          ]
        }
      ],
      "source": [
        "# Так как у нас всего одно выходное значение и один входной набор данных, то можно записать просто:\n",
        "mse2 = (y_real - y_relu[0][0]) ** 2 # Считаем значение ошибки для единичного набора данных\n",
        "print(mse2) # Выводим посчитанное значение"
      ]
    },
    {
      "cell_type": "markdown",
      "metadata": {
        "id": "6tP0Iq2NX9qK"
      },
      "source": [
        "## BINARY_CROSSENTROPY\n",
        "\n",
        "бинарная кроссэнтропия\n",
        "\n",
        "![alt text](https://miro.medium.com/max/1096/1*rdBw0E-My8Gu3f_BOB6GMA.png)"
      ]
    },
    {
      "cell_type": "code",
      "execution_count": 101,
      "metadata": {
        "colab": {
          "base_uri": "https://localhost:8080/"
        },
        "id": "Xe3li7nNZZLR",
        "outputId": "1b42dd1a-012f-4a32-999d-96b0d9af4904",
        "pycharm": {
          "is_executing": true
        }
      },
      "outputs": [
        {
          "output_type": "stream",
          "name": "stdout",
          "text": [
            "0.9108806751235732\n"
          ]
        }
      ],
      "source": [
        "# Так как у нас всего одно выходное значение и один входной набор данных, то можно записать просто:\n",
        "bc = - (y_real * np.log(y_sigmoid[0][0])  + (1 - y_real) * np.log(1 - y_sigmoid[0][0])) # Считаем значение ошибки\n",
        "print(bc) # Выводим посчитанное значение"
      ]
    },
    {
      "cell_type": "markdown",
      "metadata": {
        "id": "c3-PovDMb2TU"
      },
      "source": [
        "# Оптимизаторы\n",
        "\n",
        "*Разбор данного раздела:* https://youtu.be/fp5u-o3p910?t=7327\n",
        "\n",
        "\n"
      ]
    },
    {
      "cell_type": "code",
      "execution_count": 102,
      "metadata": {
        "colab": {
          "base_uri": "https://localhost:8080/"
        },
        "id": "qSBV9glSb3-f",
        "outputId": "276add21-696c-466e-dc96-b8294a497677",
        "pycharm": {
          "is_executing": true
        }
      },
      "outputs": [
        {
          "output_type": "stream",
          "name": "stdout",
          "text": [
            "[0.34]\n",
            "(1,)\n"
          ]
        }
      ],
      "source": [
        "y_train = np.array(y_true) # Создадим numpy-массив значений, к которым должна стремиться модель (в нашем случае одно значение)\n",
        "print(y_train) # Выведем сформированный массив\n",
        "print(y_train.shape) # Выведем размерность сформированного массива"
      ]
    },
    {
      "cell_type": "code",
      "execution_count": 103,
      "metadata": {
        "id": "2j4NIT8EIzus",
        "pycharm": {
          "is_executing": true
        },
        "colab": {
          "base_uri": "https://localhost:8080/"
        },
        "outputId": "76790600-2eef-4fbc-c390-15ccc0b8b07e"
      },
      "outputs": [
        {
          "output_type": "execute_result",
          "data": {
            "text/plain": [
              "(1, 2)"
            ]
          },
          "metadata": {},
          "execution_count": 103
        }
      ],
      "source": [
        "x_train.shape"
      ]
    },
    {
      "cell_type": "code",
      "execution_count": 104,
      "metadata": {
        "id": "GqtLfYO3gkd4",
        "pycharm": {
          "is_executing": true
        }
      },
      "outputs": [],
      "source": [
        "# Создадим модель, аналогичную ранее созданной с relu-активацией\n",
        "model_test = Sequential() # Создаем пустую модель нейронной сети\n",
        "model_test.add(Dense(2, input_dim = 2, activation='linear', use_bias=False)) # Добавляем полносвязный слой с 2мя нейронами (указываем, что на вход принимаем вектор из двух элементв), функция активация - relu,  и отключаем использование нейрона смещения\n",
        "model_test.add(Dense(1, activation='relu', use_bias=False)) # Добавляем полносвязный слой с 1 нейроном (выходной слой нашей модели), здесь уже не требуется указывать размерность входных данных, функция активация - relu, и также отключаем использование нейрона смещения\n",
        "model_test.set_weights(new_weight) # Установим посчитанные выше веса"
      ]
    },
    {
      "cell_type": "code",
      "execution_count": 105,
      "metadata": {
        "id": "z_2rXuzlcoZu",
        "pycharm": {
          "is_executing": true
        }
      },
      "outputs": [],
      "source": [
        "model_test.compile(optimizer='adam', loss='mse', metrics=['mae']) # Компилируем нашу модель, указав используемый оптимайзер, функцию ошибки и метрику\n",
        "#model_test.compile(optimizer=Adam(0.001), loss='mse') # Альтернативный способ указания оптимизатора"
      ]
    },
    {
      "cell_type": "code",
      "execution_count": 106,
      "metadata": {
        "colab": {
          "base_uri": "https://localhost:8080/"
        },
        "id": "24hP5EaOJEUg",
        "outputId": "b88b6901-f93c-4370-d06d-088e2889cb19",
        "pycharm": {
          "is_executing": true
        }
      },
      "outputs": [
        {
          "output_type": "stream",
          "name": "stdout",
          "text": [
            "Model: \"sequential_10\"\n",
            "_________________________________________________________________\n",
            " Layer (type)                Output Shape              Param #   \n",
            "=================================================================\n",
            " dense_19 (Dense)            (None, 2)                 4         \n",
            "                                                                 \n",
            " dense_20 (Dense)            (None, 1)                 2         \n",
            "                                                                 \n",
            "=================================================================\n",
            "Total params: 6\n",
            "Trainable params: 6\n",
            "Non-trainable params: 0\n",
            "_________________________________________________________________\n"
          ]
        }
      ],
      "source": [
        "model_test.summary()"
      ]
    },
    {
      "cell_type": "code",
      "execution_count": 107,
      "metadata": {
        "id": "sRzTt3U5czH_",
        "pycharm": {
          "is_executing": true
        }
      },
      "outputs": [],
      "source": [
        "l = model_test.train_on_batch(x_train, y_train) # Обучаем модель на одном наборе данных методом train_on_batch. Метод вернет ошибку и метрику"
      ]
    },
    {
      "cell_type": "code",
      "execution_count": 108,
      "metadata": {
        "colab": {
          "base_uri": "https://localhost:8080/"
        },
        "id": "nx9xryureeac",
        "outputId": "8d48bc08-fb2e-4f20-ab7d-0333c6d20b02",
        "pycharm": {
          "is_executing": true
        }
      },
      "outputs": [
        {
          "output_type": "stream",
          "name": "stdout",
          "text": [
            "[2.2090868949890137, 1.486299753189087]\n"
          ]
        }
      ],
      "source": [
        "print(l) # Отобразим ошибку после обучения"
      ]
    },
    {
      "cell_type": "code",
      "execution_count": 109,
      "metadata": {
        "colab": {
          "base_uri": "https://localhost:8080/"
        },
        "id": "XR85tGcchYVs",
        "outputId": "73ea8e8e-fa0d-4571-8619-7cd07280464b",
        "pycharm": {
          "is_executing": true
        }
      },
      "outputs": [
        {
          "output_type": "stream",
          "name": "stdout",
          "text": [
            "[array([[ 0.42, -0.56],\n",
            "       [ 0.15,  0.83]]), array([[0.93],\n",
            "       [0.02]])]\n"
          ]
        }
      ],
      "source": [
        "print(new_weight) # Выведем веса, которые были назначены модели в самом начале"
      ]
    },
    {
      "cell_type": "code",
      "execution_count": 110,
      "metadata": {
        "colab": {
          "base_uri": "https://localhost:8080/"
        },
        "id": "XGfnoPnu7Tl2",
        "outputId": "a55be7c6-603e-4968-b6c5-0ab76e9533c4",
        "pycharm": {
          "is_executing": true
        }
      },
      "outputs": [
        {
          "output_type": "stream",
          "name": "stdout",
          "text": [
            "[array([[ 0.41899997, -0.56100005],\n",
            "       [ 0.15100004,  0.83100003]], dtype=float32), array([[0.92899996],\n",
            "       [0.02100003]], dtype=float32)]\n"
          ]
        }
      ],
      "source": [
        "print(model_test.get_weights()) # Выведем измененные веса после одного шага обучения"
      ]
    },
    {
      "cell_type": "code",
      "execution_count": 111,
      "metadata": {
        "colab": {
          "base_uri": "https://localhost:8080/"
        },
        "id": "QZ4O6CnX7bEm",
        "outputId": "93fce910-f048-4bde-dece-c29b83adda3f",
        "pycharm": {
          "is_executing": true
        }
      },
      "outputs": [
        {
          "output_type": "stream",
          "name": "stdout",
          "text": [
            "Ошибка (mse) после 1000 шагов [2.566835632933362e-13, 5.066394805908203e-07]\n"
          ]
        }
      ],
      "source": [
        "for i in range(1000): # Пройдемся в цикле 1000 раз\n",
        "  loss = model_test.train_on_batch(x_train, y_train) # Выполним на каждом шаге обучение нашей модели\n",
        "print('Ошибка (mse) после 1000 шагов', loss)"
      ]
    },
    {
      "cell_type": "code",
      "execution_count": 112,
      "metadata": {
        "colab": {
          "base_uri": "https://localhost:8080/"
        },
        "id": "9CYx77E776SW",
        "outputId": "49ccf109-04a3-487d-c658-0b441a235071",
        "pycharm": {
          "is_executing": true
        }
      },
      "outputs": [
        {
          "output_type": "stream",
          "name": "stdout",
          "text": [
            "Требуемое значение: 0.34\n",
            "Значение модели: 0.3399995\n"
          ]
        }
      ],
      "source": [
        "y_pred = model_test.predict(x_train) # Получаем результат нашей модели\n",
        "print('Требуемое значение:', y_real)\n",
        "print('Значение модели:', y_pred[0][0])"
      ]
    },
    {
      "cell_type": "code",
      "execution_count": 113,
      "metadata": {
        "colab": {
          "base_uri": "https://localhost:8080/"
        },
        "id": "H0K40p5e8yWG",
        "outputId": "551bfded-8d07-4dc1-e9a4-1e2622d22132",
        "pycharm": {
          "is_executing": true
        }
      },
      "outputs": [
        {
          "output_type": "stream",
          "name": "stdout",
          "text": [
            "Веса модели \n",
            " [array([[ 0.3580763 , -0.6438554 ],\n",
            "       [ 0.21192369,  0.9138554 ]], dtype=float32), array([[0.87291133],\n",
            "       [0.08429355]], dtype=float32)]\n"
          ]
        }
      ],
      "source": [
        "print('Веса модели \\n', model_test.get_weights())"
      ]
    },
    {
      "cell_type": "markdown",
      "metadata": {
        "id": "n3UgLD14-l72"
      },
      "source": [
        "# Демонстрация градиентного спуска\n",
        "\n",
        "*Разбор данного раздела:* https://youtu.be/fp5u-o3p910?t=7982\n",
        "\n"
      ]
    },
    {
      "cell_type": "code",
      "execution_count": 114,
      "metadata": {
        "id": "6afPVVK-UZvR",
        "pycharm": {
          "is_executing": true
        }
      },
      "outputs": [],
      "source": [
        "def makeData2(model, x_train, y_train): # Функция возвращает сетку координат весов и массив ошибки, соответствующей этой сетке\n",
        "    x = np.arange(-1.5, 1.5, 0.05) # Создаем массив шагов по шкале x\n",
        "    y = np.arange(-1.5, 1.5, 0.05) # Создаем массив шагов по шкале y\n",
        "    xgrid, ygrid = np.meshgrid(x, y) # Создаем пересечение всех возможных точек пространства  xy\n",
        "\n",
        "    zgrid = np.zeros_like(xgrid) # Сздаем массив zgrid (в нем будет храниться значение ошибки)\n",
        "    for i in range (x.shape[0]): # Проходим по всем шагам по оси x\n",
        "      z_add = np.zeros(x.shape[0]) # Создаем массив из нулей, в который будем добавлять значения ошибки\n",
        "      for j in range(y.shape[0]): # Проходим по всем шагам по оси y\n",
        "        model_d.set_weights([np.array([[x[i]],[y[j]]])]) # Устанавливаем веса для модели в соответствии с текущими шагами по осям x и y\n",
        "        loss = model_d.train_on_batch(x_train, y_train) # Обучаем модель на установленных весах и получаем значение ошибки\n",
        "        z_add[j] = loss # Записываем полученное значение ошибки в соответствующее место массива z_add\n",
        "      zgrid[i] = z_add # Записываем сформированный массив z_add в общий массив, хранящий значение ошибки\n",
        "    return xgrid, ygrid, zgrid # Возвращаем шаги по осям x и y (xgrid, ygrid) и массив, содержащий значение ошибки (zgrid)"
      ]
    },
    {
      "cell_type": "code",
      "execution_count": 115,
      "metadata": {
        "id": "2GChy4ib-vh9",
        "pycharm": {
          "is_executing": true
        }
      },
      "outputs": [],
      "source": [
        "model_d = Sequential() # Создаем класс модели\n",
        "model_d.add(Dense(1, input_dim=2, activation='linear', use_bias=False)) # Добавляем один Dense-слой с линейной активацией и отключенным bias'ом\n",
        "model_d.compile(optimizer=Adam(0.001), loss='mse') # Компилируем модель, указав оптимайзер и ошибку"
      ]
    },
    {
      "cell_type": "code",
      "execution_count": 116,
      "metadata": {
        "colab": {
          "base_uri": "https://localhost:8080/"
        },
        "id": "iri8Mva5XTP8",
        "outputId": "8dfdf13a-3c42-42f1-ba89-d22ab59553f3",
        "pycharm": {
          "is_executing": true
        }
      },
      "outputs": [
        {
          "output_type": "stream",
          "name": "stdout",
          "text": [
            "Стартовые веса модели:  [array([[-0.32557702],\n",
            "       [-1.2639253 ]], dtype=float32)]\n"
          ]
        }
      ],
      "source": [
        "start_weights = model_d.get_weights() # Запомним стартовое значение весов модели в переменной start_weights\n",
        "print ('Стартовые веса модели: ', start_weights) # Отобразим стартовые веса модели"
      ]
    },
    {
      "cell_type": "code",
      "execution_count": 117,
      "metadata": {
        "id": "RKeJ2jRo2vcl",
        "pycharm": {
          "is_executing": true
        }
      },
      "outputs": [],
      "source": [
        "start_weights = [np.array([[-1.2], [1.1]])] # Зададим свои стартовые веса модели\n",
        "model_d.set_weights(start_weights) # Установим модели указанные веса"
      ]
    },
    {
      "cell_type": "code",
      "execution_count": 118,
      "metadata": {
        "id": "ImLVzsCtze2G",
        "pycharm": {
          "is_executing": true
        }
      },
      "outputs": [],
      "source": [
        "x_train = np.array([[1,0],[0,1]]) # Зададим x_train\n",
        "y_train = np.array([1,-1]) # Зададим y_train"
      ]
    },
    {
      "cell_type": "code",
      "execution_count": 119,
      "metadata": {
        "colab": {
          "base_uri": "https://localhost:8080/"
        },
        "id": "0joVPshffo8f",
        "outputId": "cbad2419-235b-4feb-c5d6-c1254e24f266",
        "pycharm": {
          "is_executing": true
        }
      },
      "outputs": [
        {
          "output_type": "stream",
          "name": "stdout",
          "text": [
            "0.0010309708304703236\n"
          ]
        }
      ],
      "source": [
        "save_weights = [] # Создаем пустой список, в котором будем сохранять веса модели после каждого шага обучения\n",
        "losses = [] # Создаем пустой список, в котором будем сохранять значение ошибки после каждого шага обучения\n",
        "for i in range(4000): # Проходим в цикле 4000 раз\n",
        "  save_weights.append(model_d.get_weights()[0]) # Добавляем в список весов текущее значение весов модели\n",
        "  l = model_d.train_on_batch(x_train, y_train) # Обучаем модель методом train_on_batch и получаем значение ошибки\n",
        "  losses.append(l) # Добавляем полученное значение ошибки в список ошибок\n",
        "print(l) # Выведем ошибку после последнего шага обучения"
      ]
    },
    {
      "cell_type": "code",
      "execution_count": 120,
      "metadata": {
        "colab": {
          "base_uri": "https://localhost:8080/"
        },
        "id": "sGll50hcp2J1",
        "outputId": "6b68cb29-e357-405b-867e-fc186ebc5de5",
        "pycharm": {
          "is_executing": true
        }
      },
      "outputs": [
        {
          "output_type": "stream",
          "name": "stdout",
          "text": [
            "[ 0.96234757 -0.9746182 ]\n",
            "0.0010309708304703236\n"
          ]
        }
      ],
      "source": [
        "save_weights = np.array(save_weights) # Преобразуем список save_weights в numpy-массив\n",
        "save_weights = save_weights.reshape(-1,2) # Изменим размерность сформированного массива\n",
        "print(save_weights[-1]) # Отобразим последнее значение в массиве (соответствует текущим весам модели)\n",
        "print(losses[-1]) # Отобразим последнее значение в списке ошибок"
      ]
    },
    {
      "cell_type": "code",
      "execution_count": 121,
      "outputs": [
        {
          "output_type": "display_data",
          "data": {
            "text/plain": [
              "<Figure size 720x720 with 1 Axes>"
            ],
            "image/png": "[encoded data removed]"
          },
          "metadata": {
            "needs_background": "light"
          }
        }
      ],
      "source": [
        "x, y, z = makeData2(model_d, x_train, y_train) # Вызываем функцию получения сетки весов и значений ошибки в этих весах\n",
        "model_d.set_weights(start_weights) # Устанвливаем модели стартовое значение весов\n",
        "l = model_d.train_on_batch(x_train, y_train) # Получим значение ошибки при стартовых весах\n",
        "fig = pylab.figure(figsize=(10,10)) # Создаем объект pylab.figure для построения графиков\n",
        "axes = Axes3D(fig) # Создаем объект Axes3D для построения трехмерного графика\n",
        "axes.plot_surface(x, y, z, rstride=1, cstride=1, alpha = 0.2) # Рисуем поверхность по параметрам x (веса w1), y (веса w2), z (значения ошибок)\n",
        "axes.scatter(start_weights[0][1], start_weights[0][0], l, s=30, color='red') # Рисуем стартовое значение ошибки (l) при стартовых весах\n",
        "pylab.show() # Отображаем график"
      ],
      "metadata": {
        "pycharm": {
          "is_executing": true
        },
        "colab": {
          "base_uri": "https://localhost:8080/",
          "height": 751
        },
        "id": "av4_ChkE1lm6",
        "outputId": "4bb716c6-4dfb-42a1-8618-ca45bd4949e2"
      }
    },
    {
      "cell_type": "code",
      "execution_count": 122,
      "metadata": {
        "colab": {
          "base_uri": "https://localhost:8080/",
          "height": 751
        },
        "id": "50-whMBlmt1E",
        "outputId": "c14af9b5-f2ab-4499-a017-a9ea3639b282",
        "pycharm": {
          "is_executing": true
        }
      },
      "outputs": [
        {
          "output_type": "display_data",
          "data": {
            "text/plain": [
              "<Figure size 720x720 with 1 Axes>"
            ],
            "image/png": "[encoded data removed]"
          },
          "metadata": {
            "needs_background": "light"
          }
        }
      ],
      "source": [
        "fig = pylab.figure(figsize=(10,10)) # Создаем объект pylab.figure для построения графиков\n",
        "axes = Axes3D(fig) # Создаем объект Axes3D для построения трехмерного графика\n",
        "axes.plot_surface(x, y, z, rstride=1, cstride=1, alpha = 0.2) # Рисуем поверхность по параметрам x (веса w1), y (веса w2), z (значения ошибок)\n",
        "axes.scatter(save_weights[0,1], save_weights[0,0], losses[0], s=30, color='red') # Рисуем стартовое значение ошибки (losses[0])\n",
        "axes.scatter(save_weights[:,1], save_weights[:,0], losses[:], s=1, color='green') # Рисуем все значения ошибок\n",
        "axes.scatter(save_weights[-1,1], save_weights[-1,0], losses[-1], s=30, color='black') # Рисуем финальное значение ошибки (losses[-1])\n",
        "pylab.show()"
      ]
    },
    {
      "cell_type": "markdown",
      "metadata": {
        "id": "nqZpzs2nBs63"
      },
      "source": [
        "# Распознавание рукописных цифр MNIST"
      ]
    },
    {
      "cell_type": "markdown",
      "metadata": {
        "id": "qLX9aj3eFCPB"
      },
      "source": [
        "## Подготовка данных\n",
        "\n",
        "*Разбор данного раздела:* https://youtu.be/fp5u-o3p910?t=8407\n",
        "\n"
      ]
    },
    {
      "cell_type": "code",
      "execution_count": 123,
      "metadata": {
        "colab": {
          "base_uri": "https://localhost:8080/"
        },
        "id": "xnYVjcnJC4TY",
        "outputId": "6593fade-da72-4325-d39b-29bcbc22d5df",
        "pycharm": {
          "is_executing": true
        }
      },
      "outputs": [
        {
          "output_type": "stream",
          "name": "stdout",
          "text": [
            "Downloading data from https://storage.googleapis.com/tensorflow/tf-keras-datasets/mnist.npz\n",
            "11493376/11490434 [==============================] - 0s 0us/step\n",
            "11501568/11490434 [==============================] - 0s 0us/step\n"
          ]
        }
      ],
      "source": [
        "(x_train_org, y_train_org), (x_test_org, y_test_org) = mnist.load_data() #Загрузка данных Mnist"
      ]
    },
    {
      "cell_type": "code",
      "execution_count": 124,
      "metadata": {
        "colab": {
          "base_uri": "https://localhost:8080/"
        },
        "id": "ixb5KVPvdHT7",
        "outputId": "eb9c8beb-400f-457a-a3e9-938be918f6ab",
        "pycharm": {
          "is_executing": true
        }
      },
      "outputs": [
        {
          "output_type": "execute_result",
          "data": {
            "text/plain": [
              "array([[  0,   0,   0,   0,   0,   0,   0,   0,   0,   0,   0,   0,   0,\n",
              "          0,   0,   0,   0,   0,   0,   0,   0,   0,   0,   0,   0,   0,\n",
              "          0,   0],\n",
              "       [  0,   0,   0,   0,   0,   0,   0,   0,   0,   0,   0,   0,   0,\n",
              "          0,   0,   0,   0,   0,   0,   0,   0,   0,   0,   0,   0,   0,\n",
              "          0,   0],\n",
              "       [  0,   0,   0,   0,   0,   0,   0,   0,   0,   0,   0,   0,   0,\n",
              "          0,   0,   0,   0,   0,   0,   0,   0,   0,   0,   0,   0,   0,\n",
              "          0,   0],\n",
              "       [  0,   0,   0,   0,   0,   0,   0,   0,   0,   0,   0,   0,   0,\n",
              "          0,   0,   0,   0,   0,   0,   0,   0,   0,   0,   0,   0,   0,\n",
              "          0,   0],\n",
              "       [  0,   0,   0,   0,   0,   0,   0,   0,   0,   0,   0,   0,   0,\n",
              "          0,   0,   0,   0,   0,   0,   0,   0,   0,   0,   0,   0,   0,\n",
              "          0,   0],\n",
              "       [  0,   0,   0,   0,   0,   0,   0,   0,   0,   0,   0,   0,   3,\n",
              "         18,  18,  18, 126, 136, 175,  26, 166, 255, 247, 127,   0,   0,\n",
              "          0,   0],\n",
              "       [  0,   0,   0,   0,   0,   0,   0,   0,  30,  36,  94, 154, 170,\n",
              "        253, 253, 253, 253, 253, 225, 172, 253, 242, 195,  64,   0,   0,\n",
              "          0,   0],\n",
              "       [  0,   0,   0,   0,   0,   0,   0,  49, 238, 253, 253, 253, 253,\n",
              "        253, 253, 253, 253, 251,  93,  82,  82,  56,  39,   0,   0,   0,\n",
              "          0,   0],\n",
              "       [  0,   0,   0,   0,   0,   0,   0,  18, 219, 253, 253, 253, 253,\n",
              "        253, 198, 182, 247, 241,   0,   0,   0,   0,   0,   0,   0,   0,\n",
              "          0,   0],\n",
              "       [  0,   0,   0,   0,   0,   0,   0,   0,  80, 156, 107, 253, 253,\n",
              "        205,  11,   0,  43, 154,   0,   0,   0,   0,   0,   0,   0,   0,\n",
              "          0,   0],\n",
              "       [  0,   0,   0,   0,   0,   0,   0,   0,   0,  14,   1, 154, 253,\n",
              "         90,   0,   0,   0,   0,   0,   0,   0,   0,   0,   0,   0,   0,\n",
              "          0,   0],\n",
              "       [  0,   0,   0,   0,   0,   0,   0,   0,   0,   0,   0, 139, 253,\n",
              "        190,   2,   0,   0,   0,   0,   0,   0,   0,   0,   0,   0,   0,\n",
              "          0,   0],\n",
              "       [  0,   0,   0,   0,   0,   0,   0,   0,   0,   0,   0,  11, 190,\n",
              "        253,  70,   0,   0,   0,   0,   0,   0,   0,   0,   0,   0,   0,\n",
              "          0,   0],\n",
              "       [  0,   0,   0,   0,   0,   0,   0,   0,   0,   0,   0,   0,  35,\n",
              "        241, 225, 160, 108,   1,   0,   0,   0,   0,   0,   0,   0,   0,\n",
              "          0,   0],\n",
              "       [  0,   0,   0,   0,   0,   0,   0,   0,   0,   0,   0,   0,   0,\n",
              "         81, 240, 253, 253, 119,  25,   0,   0,   0,   0,   0,   0,   0,\n",
              "          0,   0],\n",
              "       [  0,   0,   0,   0,   0,   0,   0,   0,   0,   0,   0,   0,   0,\n",
              "          0,  45, 186, 253, 253, 150,  27,   0,   0,   0,   0,   0,   0,\n",
              "          0,   0],\n",
              "       [  0,   0,   0,   0,   0,   0,   0,   0,   0,   0,   0,   0,   0,\n",
              "          0,   0,  16,  93, 252, 253, 187,   0,   0,   0,   0,   0,   0,\n",
              "          0,   0],\n",
              "       [  0,   0,   0,   0,   0,   0,   0,   0,   0,   0,   0,   0,   0,\n",
              "          0,   0,   0,   0, 249, 253, 249,  64,   0,   0,   0,   0,   0,\n",
              "          0,   0],\n",
              "       [  0,   0,   0,   0,   0,   0,   0,   0,   0,   0,   0,   0,   0,\n",
              "          0,  46, 130, 183, 253, 253, 207,   2,   0,   0,   0,   0,   0,\n",
              "          0,   0],\n",
              "       [  0,   0,   0,   0,   0,   0,   0,   0,   0,   0,   0,   0,  39,\n",
              "        148, 229, 253, 253, 253, 250, 182,   0,   0,   0,   0,   0,   0,\n",
              "          0,   0],\n",
              "       [  0,   0,   0,   0,   0,   0,   0,   0,   0,   0,  24, 114, 221,\n",
              "        253, 253, 253, 253, 201,  78,   0,   0,   0,   0,   0,   0,   0,\n",
              "          0,   0],\n",
              "       [  0,   0,   0,   0,   0,   0,   0,   0,  23,  66, 213, 253, 253,\n",
              "        253, 253, 198,  81,   2,   0,   0,   0,   0,   0,   0,   0,   0,\n",
              "          0,   0],\n",
              "       [  0,   0,   0,   0,   0,   0,  18, 171, 219, 253, 253, 253, 253,\n",
              "        195,  80,   9,   0,   0,   0,   0,   0,   0,   0,   0,   0,   0,\n",
              "          0,   0],\n",
              "       [  0,   0,   0,   0,  55, 172, 226, 253, 253, 253, 253, 244, 133,\n",
              "         11,   0,   0,   0,   0,   0,   0,   0,   0,   0,   0,   0,   0,\n",
              "          0,   0],\n",
              "       [  0,   0,   0,   0, 136, 253, 253, 253, 212, 135, 132,  16,   0,\n",
              "          0,   0,   0,   0,   0,   0,   0,   0,   0,   0,   0,   0,   0,\n",
              "          0,   0],\n",
              "       [  0,   0,   0,   0,   0,   0,   0,   0,   0,   0,   0,   0,   0,\n",
              "          0,   0,   0,   0,   0,   0,   0,   0,   0,   0,   0,   0,   0,\n",
              "          0,   0],\n",
              "       [  0,   0,   0,   0,   0,   0,   0,   0,   0,   0,   0,   0,   0,\n",
              "          0,   0,   0,   0,   0,   0,   0,   0,   0,   0,   0,   0,   0,\n",
              "          0,   0],\n",
              "       [  0,   0,   0,   0,   0,   0,   0,   0,   0,   0,   0,   0,   0,\n",
              "          0,   0,   0,   0,   0,   0,   0,   0,   0,   0,   0,   0,   0,\n",
              "          0,   0]], dtype=uint8)"
            ]
          },
          "metadata": {},
          "execution_count": 124
        }
      ],
      "source": [
        "x_train_org[0]"
      ]
    },
    {
      "cell_type": "code",
      "execution_count": 125,
      "metadata": {
        "colab": {
          "base_uri": "https://localhost:8080/",
          "height": 0
        },
        "id": "ts-z0Oh_EJJ_",
        "outputId": "871156a6-0a62-4d4e-c57b-2c9ccbd4d372",
        "pycharm": {
          "is_executing": true
        }
      },
      "outputs": [
        {
          "output_type": "display_data",
          "data": {
            "text/plain": [
              "<Figure size 432x288 with 1 Axes>"
            ],
            "image/png": "[encoded data removed]"
          },
          "metadata": {
            "needs_background": "light"
          }
        }
      ],
      "source": [
        "n = 12 #Номер картинки\n",
        "plt.imshow(x_train_org[n], cmap='viridis') #Отрисовка картинки\n",
        "plt.show() # Вывод картинки"
      ]
    },
    {
      "cell_type": "code",
      "execution_count": 125,
      "metadata": {
        "id": "GJYkhq7Xgl5R",
        "pycharm": {
          "is_executing": true
        }
      },
      "outputs": [],
      "source": []
    },
    {
      "cell_type": "code",
      "execution_count": 126,
      "metadata": {
        "colab": {
          "base_uri": "https://localhost:8080/"
        },
        "id": "StxOw0C6EQQd",
        "outputId": "e716d4e6-e1a0-416e-9a1c-49b63dc5a40c",
        "pycharm": {
          "is_executing": true
        }
      },
      "outputs": [
        {
          "output_type": "stream",
          "name": "stdout",
          "text": [
            "(60000, 28, 28)\n",
            "(60000, 784)\n"
          ]
        }
      ],
      "source": [
        "#Меняем формат входных картинок с 28х28 на 784х1\n",
        "x_train = x_train_org.reshape(60000, 784)\n",
        "x_test = x_test_org.reshape(10000, 784)\n",
        "print(x_train_org.shape)\n",
        "print(x_train.shape)"
      ]
    },
    {
      "cell_type": "code",
      "execution_count": 127,
      "metadata": {
        "id": "R5cW-u8eEXBN",
        "pycharm": {
          "is_executing": true
        }
      },
      "outputs": [],
      "source": [
        "#Нормализуем входные картинки\n",
        "x_train = x_train.astype('float32') # преобразовываем x_train в тип float (цифры с плавающей точкой)\n",
        "x_train = x_train / 255 # делим на 255, чтобы диапазон был от 0 до 1\n",
        "x_test = x_test.astype('float32') # преобразовываем x_test в тип float (цифры с плавающей точкой)\n",
        "x_test = x_test / 255 # делим на 255, чтобы диапазон был от 0 до 1"
      ]
    },
    {
      "cell_type": "code",
      "execution_count": 128,
      "metadata": {
        "colab": {
          "base_uri": "https://localhost:8080/"
        },
        "id": "OOerDh0Aj1ol",
        "outputId": "bec6a830-5627-4f83-e259-71e79df93229",
        "pycharm": {
          "is_executing": true
        }
      },
      "outputs": [
        {
          "output_type": "execute_result",
          "data": {
            "text/plain": [
              "5"
            ]
          },
          "metadata": {},
          "execution_count": 128
        }
      ],
      "source": [
        "y_train_org[0]"
      ]
    },
    {
      "cell_type": "code",
      "execution_count": 129,
      "metadata": {
        "colab": {
          "base_uri": "https://localhost:8080/"
        },
        "id": "K1EUAdt5j3kA",
        "outputId": "da12ab02-d973-4db6-b107-e39f73f8a021",
        "pycharm": {
          "is_executing": true
        }
      },
      "outputs": [
        {
          "output_type": "execute_result",
          "data": {
            "text/plain": [
              "array([0., 0., 0., 0., 0., 1., 0., 0., 0., 0.], dtype=float32)"
            ]
          },
          "metadata": {},
          "execution_count": 129
        }
      ],
      "source": [
        "utils.to_categorical(y_train_org[0], 10)"
      ]
    },
    {
      "cell_type": "code",
      "execution_count": 130,
      "metadata": {
        "id": "zrxFxFA5EsVU",
        "pycharm": {
          "is_executing": true
        }
      },
      "outputs": [],
      "source": [
        "# Преобразуем ответы в формат one_hot_encoding\n",
        "y_train = utils.to_categorical(y_train_org, 10)\n",
        "y_test = utils.to_categorical(y_test_org, 10)"
      ]
    },
    {
      "cell_type": "code",
      "execution_count": 131,
      "metadata": {
        "colab": {
          "base_uri": "https://localhost:8080/"
        },
        "id": "7AiDf79FE2Xk",
        "outputId": "8847dbc6-6a38-46f7-e2b7-0234c7a538fc",
        "pycharm": {
          "is_executing": true
        }
      },
      "outputs": [
        {
          "output_type": "stream",
          "name": "stdout",
          "text": [
            "(60000, 10)\n"
          ]
        }
      ],
      "source": [
        "#Выводим размер y_train\n",
        "#60 тысяч примеров, каждый размера 10 (так как 10 классов)\n",
        "print(y_train.shape)"
      ]
    },
    {
      "cell_type": "code",
      "execution_count": 132,
      "metadata": {
        "colab": {
          "base_uri": "https://localhost:8080/"
        },
        "id": "i7MZ1HbBE7me",
        "outputId": "c637db6d-066b-436d-910c-0d04f4ed90ac",
        "pycharm": {
          "is_executing": true
        }
      },
      "outputs": [
        {
          "output_type": "stream",
          "name": "stdout",
          "text": [
            "[0. 0. 0. 1. 0. 0. 0. 0. 0. 0.]\n"
          ]
        }
      ],
      "source": [
        "print(y_train[n]) #Выводим пример одного выходного вектора"
      ]
    },
    {
      "cell_type": "code",
      "execution_count": 133,
      "metadata": {
        "colab": {
          "base_uri": "https://localhost:8080/"
        },
        "id": "LyIjTL5BNxus",
        "outputId": "7ad75587-e2e4-4532-d803-52c15e1663e2",
        "pycharm": {
          "is_executing": true
        }
      },
      "outputs": [
        {
          "output_type": "stream",
          "name": "stdout",
          "text": [
            "(60000,)\n"
          ]
        }
      ],
      "source": [
        "print(y_train_org.shape)"
      ]
    },
    {
      "cell_type": "code",
      "execution_count": 134,
      "metadata": {
        "colab": {
          "base_uri": "https://localhost:8080/"
        },
        "id": "L6kqzxeiN0IK",
        "outputId": "fbdd4c53-07a3-4abb-dd50-ed7c12eb0740",
        "pycharm": {
          "is_executing": true
        }
      },
      "outputs": [
        {
          "output_type": "stream",
          "name": "stdout",
          "text": [
            "6\n"
          ]
        }
      ],
      "source": [
        "print(y_train_org[36])"
      ]
    },
    {
      "cell_type": "markdown",
      "metadata": {
        "id": "TR6ua7t7FEzn"
      },
      "source": [
        "## Создание нейронной сети\n",
        "\n",
        "*Разбор данного раздела:* https://youtu.be/fp5u-o3p910?t=9372\n",
        "\n"
      ]
    },
    {
      "cell_type": "code",
      "execution_count": 135,
      "metadata": {
        "id": "odi8yVyxE-w5",
        "pycharm": {
          "is_executing": true
        }
      },
      "outputs": [],
      "source": [
        "model = Sequential() # Создаём сеть прямого распространения\n",
        "model.add(Dense(800, input_dim=784, activation=\"relu\")) # Добавляем полносвязный слой на 800 нейронов с relu-активацией\n",
        "model.add(Dense(400, activation=\"relu\")) # Добавляем полносвязный слой на 400 нейронов с relu-активацией\n",
        "model.add(Dense(10, activation=\"softmax\")) # Добавляем полносвязный слой на 10 нейронов с softmax-активацией"
      ]
    },
    {
      "cell_type": "code",
      "execution_count": 136,
      "metadata": {
        "colab": {
          "base_uri": "https://localhost:8080/"
        },
        "id": "6EMUkxTqFkc1",
        "outputId": "54b17161-892a-4a86-d718-a69fad36dac8",
        "pycharm": {
          "is_executing": true
        }
      },
      "outputs": [
        {
          "output_type": "stream",
          "name": "stdout",
          "text": [
            "Model: \"sequential_12\"\n",
            "_________________________________________________________________\n",
            " Layer (type)                Output Shape              Param #   \n",
            "=================================================================\n",
            " dense_22 (Dense)            (None, 800)               628000    \n",
            "                                                                 \n",
            " dense_23 (Dense)            (None, 400)               320400    \n",
            "                                                                 \n",
            " dense_24 (Dense)            (None, 10)                4010      \n",
            "                                                                 \n",
            "=================================================================\n",
            "Total params: 952,410\n",
            "Trainable params: 952,410\n",
            "Non-trainable params: 0\n",
            "_________________________________________________________________\n",
            "None\n"
          ]
        }
      ],
      "source": [
        "model.compile(loss=\"categorical_crossentropy\", optimizer=\"adam\", metrics=[\"accuracy\"]) # Компилируем модель\n",
        "print(model.summary()) #Вывод структуры модели"
      ]
    },
    {
      "cell_type": "markdown",
      "metadata": {
        "id": "H4WWjjxnF3qn"
      },
      "source": [
        "## Обучение нейронной сети\n",
        "\n",
        "*Разбор данного раздела:* https://youtu.be/fp5u-o3p910?t=9655\n",
        "\n"
      ]
    },
    {
      "cell_type": "code",
      "execution_count": 137,
      "metadata": {
        "colab": {
          "base_uri": "https://localhost:8080/"
        },
        "id": "tzArU3n3F6Lo",
        "outputId": "c15df04d-053b-4f97-fd7a-0f4bcbf46973",
        "pycharm": {
          "is_executing": true
        }
      },
      "outputs": [
        {
          "output_type": "stream",
          "name": "stdout",
          "text": [
            "Epoch 1/15\n",
            "375/375 [==============================] - 2s 4ms/step - loss: 0.2318 - accuracy: 0.9316 - val_loss: 0.1093 - val_accuracy: 0.9667\n",
            "Epoch 2/15\n",
            "375/375 [==============================] - 1s 3ms/step - loss: 0.0845 - accuracy: 0.9738 - val_loss: 0.0789 - val_accuracy: 0.9753\n",
            "Epoch 3/15\n",
            "375/375 [==============================] - 1s 3ms/step - loss: 0.0519 - accuracy: 0.9834 - val_loss: 0.0816 - val_accuracy: 0.9758\n",
            "Epoch 4/15\n",
            "375/375 [==============================] - 1s 4ms/step - loss: 0.0329 - accuracy: 0.9891 - val_loss: 0.0897 - val_accuracy: 0.9753\n",
            "Epoch 5/15\n",
            "375/375 [==============================] - 1s 3ms/step - loss: 0.0279 - accuracy: 0.9909 - val_loss: 0.0988 - val_accuracy: 0.9739\n",
            "Epoch 6/15\n",
            "375/375 [==============================] - 1s 3ms/step - loss: 0.0239 - accuracy: 0.9922 - val_loss: 0.1075 - val_accuracy: 0.9723\n",
            "Epoch 7/15\n",
            "375/375 [==============================] - 1s 3ms/step - loss: 0.0190 - accuracy: 0.9934 - val_loss: 0.0858 - val_accuracy: 0.9772\n",
            "Epoch 8/15\n",
            "375/375 [==============================] - 1s 3ms/step - loss: 0.0120 - accuracy: 0.9960 - val_loss: 0.0953 - val_accuracy: 0.9773\n",
            "Epoch 9/15\n",
            "375/375 [==============================] - 1s 4ms/step - loss: 0.0158 - accuracy: 0.9949 - val_loss: 0.1100 - val_accuracy: 0.9762\n",
            "Epoch 10/15\n",
            "375/375 [==============================] - 1s 4ms/step - loss: 0.0154 - accuracy: 0.9947 - val_loss: 0.1095 - val_accuracy: 0.9759\n",
            "Epoch 11/15\n",
            "375/375 [==============================] - 1s 3ms/step - loss: 0.0104 - accuracy: 0.9966 - val_loss: 0.1239 - val_accuracy: 0.9765\n",
            "Epoch 12/15\n",
            "375/375 [==============================] - 1s 3ms/step - loss: 0.0116 - accuracy: 0.9962 - val_loss: 0.1120 - val_accuracy: 0.9785\n",
            "Epoch 13/15\n",
            "375/375 [==============================] - 1s 3ms/step - loss: 0.0111 - accuracy: 0.9964 - val_loss: 0.1125 - val_accuracy: 0.9766\n",
            "Epoch 14/15\n",
            "375/375 [==============================] - 1s 3ms/step - loss: 0.0100 - accuracy: 0.9968 - val_loss: 0.1131 - val_accuracy: 0.9785\n",
            "Epoch 15/15\n",
            "375/375 [==============================] - 1s 3ms/step - loss: 0.0089 - accuracy: 0.9970 - val_loss: 0.1135 - val_accuracy: 0.9786\n"
          ]
        },
        {
          "output_type": "execute_result",
          "data": {
            "text/plain": [
              "<keras.callbacks.History at 0x7f5f0df1e310>"
            ]
          },
          "metadata": {},
          "execution_count": 137
        }
      ],
      "source": [
        "#fit - функция обучения нейронки\n",
        "#x_train, y_train - обучающая выборка, входные и выходные данные\n",
        "#batch_size - размер батча, количество примеров, которое обрабатывает нейронка перед одним изменением весов\n",
        "#epochs - количество эпох, когда нейронка обучается на всех примерах выборки\n",
        "#verbose - 0 - не визуализировать ход обучения, 1 - визуализировать\n",
        "model.fit(x_train, y_train, batch_size=128, epochs=15, verbose=1, validation_split=0.2)"
      ]
    },
    {
      "cell_type": "code",
      "execution_count": 137,
      "metadata": {
        "id": "u0RaYMg1lXFa",
        "pycharm": {
          "is_executing": true
        }
      },
      "outputs": [],
      "source": []
    },
    {
      "cell_type": "code",
      "execution_count": 138,
      "metadata": {
        "id": "nmxH0W_QSOIX",
        "pycharm": {
          "is_executing": true
        }
      },
      "outputs": [],
      "source": [
        "model.save_weights('model.h5')\n",
        "model.load_weights('model.h5')"
      ]
    },
    {
      "cell_type": "markdown",
      "metadata": {
        "id": "ExUOoWQOGvw6"
      },
      "source": [
        "## Распознавание рукописных цифр\n",
        "\n",
        "*Разбор данного раздела:* https://youtu.be/fp5u-o3p910?t=9950\n",
        "\n"
      ]
    },
    {
      "cell_type": "code",
      "execution_count": 139,
      "metadata": {
        "colab": {
          "base_uri": "https://localhost:8080/",
          "height": 265
        },
        "id": "ydE7Bb-5G82-",
        "outputId": "7ca6de76-4df5-4273-e9d7-6e7a3420c21e",
        "pycharm": {
          "is_executing": true
        }
      },
      "outputs": [
        {
          "output_type": "display_data",
          "data": {
            "text/plain": [
              "<Figure size 432x288 with 1 Axes>"
            ],
            "image/png": "[encoded data removed]"
          },
          "metadata": {
            "needs_background": "light"
          }
        }
      ],
      "source": [
        "n_rec = 1234 #Номер тестовой цифры, которую будем распознавать\n",
        "plt.imshow(Image.fromarray(x_test_org[n_rec]).convert('RGBA')) # Нарисуем картинку из тестового набора под номером n_rec\n",
        "plt.show()"
      ]
    },
    {
      "cell_type": "code",
      "execution_count": 140,
      "metadata": {
        "colab": {
          "base_uri": "https://localhost:8080/"
        },
        "id": "_85gvY6uHABc",
        "outputId": "58051c49-76c7-4b74-e665-02daa884d2a4",
        "pycharm": {
          "is_executing": true
        }
      },
      "outputs": [
        {
          "output_type": "stream",
          "name": "stdout",
          "text": [
            "(784,)\n"
          ]
        }
      ],
      "source": [
        "#Выбираем нужную картинку из тестовой выборки\n",
        "x = x_test[n_rec]\n",
        "print(x.shape)"
      ]
    },
    {
      "cell_type": "code",
      "execution_count": 141,
      "metadata": {
        "colab": {
          "base_uri": "https://localhost:8080/"
        },
        "id": "IljyFhj0HPPC",
        "outputId": "c910e5b4-faba-422f-ac85-4986e21ecbf4",
        "pycharm": {
          "is_executing": true
        }
      },
      "outputs": [
        {
          "output_type": "stream",
          "name": "stdout",
          "text": [
            "(1, 784)\n"
          ]
        }
      ],
      "source": [
        "#Добавляем одну размерность в конце, чтобы нейронка могла распознать пример\n",
        "#Потому что нейронка принимает именно массив примеров для распознавания\n",
        "#Мы делаем массив из одного примера\n",
        "x = np.expand_dims(x, axis=0)\n",
        "print(x.shape)"
      ]
    },
    {
      "cell_type": "code",
      "execution_count": 142,
      "metadata": {
        "id": "VigT6aeAHQ91",
        "pycharm": {
          "is_executing": true
        }
      },
      "outputs": [],
      "source": [
        "prediction = model.predict(x) #Распознаём наш пример"
      ]
    },
    {
      "cell_type": "code",
      "execution_count": 143,
      "metadata": {
        "colab": {
          "base_uri": "https://localhost:8080/"
        },
        "id": "fGF9xUCRHSOE",
        "outputId": "32b87977-b656-4bb7-e4c8-8b00d5d8cb24",
        "pycharm": {
          "is_executing": true
        }
      },
      "outputs": [
        {
          "output_type": "stream",
          "name": "stdout",
          "text": [
            "[[6.93287303e-11 2.64576396e-08 4.02677244e-07 3.36413507e-07\n",
            "  1.11375784e-10 4.63054107e-07 4.00575431e-08 8.43213346e-12\n",
            "  9.99998689e-01 9.18216947e-10]]\n"
          ]
        }
      ],
      "source": [
        "print(prediction) #Выводим результат, это 10 цифр"
      ]
    },
    {
      "cell_type": "code",
      "execution_count": 144,
      "metadata": {
        "colab": {
          "base_uri": "https://localhost:8080/"
        },
        "id": "9pg67PW9HV4A",
        "outputId": "1ac8e412-9db7-4479-cd8d-0958612c8e8e",
        "pycharm": {
          "is_executing": true
        }
      },
      "outputs": [
        {
          "output_type": "stream",
          "name": "stdout",
          "text": [
            "8\n"
          ]
        }
      ],
      "source": [
        "prediction = np.argmax(prediction) # Получаем индекс самого большого элемента (это итоговая цифра, которую распознала сеть)\n",
        "print(prediction)"
      ]
    },
    {
      "cell_type": "code",
      "execution_count": 145,
      "metadata": {
        "colab": {
          "base_uri": "https://localhost:8080/"
        },
        "id": "72Rbs1E9HeRZ",
        "outputId": "e0c54496-c762-47d7-fe46-0cafa481f594",
        "pycharm": {
          "is_executing": true
        }
      },
      "outputs": [
        {
          "output_type": "stream",
          "name": "stdout",
          "text": [
            "8\n"
          ]
        }
      ],
      "source": [
        "print(y_test_org[n_rec]) #выводим правильный ответ, для сравнения"
      ]
    },
    {
      "cell_type": "markdown",
      "metadata": {
        "id": "Pa2_uq889QCz"
      },
      "source": [
        "# Глоссарий"
      ]
    },
    {
      "cell_type": "markdown",
      "metadata": {
        "id": "uGF-KxJX9Uyx"
      },
      "source": [
        "**Функции активации**\n",
        "\n",
        "https://keras.io/activations/ - документация\n",
        "\n",
        "https://ru-keras.com/activation-function/ - русскоязычная документация\n",
        "\n",
        "*   sigmoid - на выходе значения от 0 до 1\n",
        "*   relu - на выходе значения от 0 до +∞\n",
        "*   tanh - на выходе значения от -1 до +1\n",
        "*   softmax - сумма значения выходов всех нейронов равна 1\n",
        "\n",
        "**Функции ошибок**\n",
        "\n",
        "https://keras.io/losses/ - документация\n",
        "\n",
        "https://ru-keras.com/loss/ - русскоязычная документация\n",
        "\n",
        "\n",
        "*   mse - среднеквадратичное отклонение\n",
        "*   mae - среднее абсолютное значение\n",
        "*   binary_crossentropy - бинарная кроссэнтропия\n",
        "*   categorical_crossentropy - категориальная кроссэнтропия\n",
        "\n",
        "**Оптимизаторы**\n",
        "\n",
        "https://keras.io/optimizers/ - документация\n",
        "\n",
        "https://ru-keras.com/optimizer/ - русскоязычная документация\n",
        "\n",
        "\n",
        "\n",
        "*   Adam\n",
        "*   RMSProp\n",
        "*   Adadelta\n",
        "\n",
        "**Градиентный спуск** - процесс поиска минимума функции ошибки\n",
        "\n",
        "**MNIST** - набор изображений рукописных цифр 28х28 пикселей\n",
        "\n",
        "**Способы обучения сети:**\n",
        "\n",
        "*   .train_on_batch - один шаг обучения на фиксированном наборе данных\n",
        "*   .fit - итерационное обучение сети с возможностью указания количества итераций (epochs) и размера пакета с обучающими данными (batch_size)\n",
        "\n",
        "**Загрузка изображения**\n",
        "\n",
        "image.load_img(path, target_size=(28, 28), color_mode = ‘grayscale’)\n",
        "\n",
        "\n",
        "\n"
      ]
    }
  ],
  "metadata": {
    "accelerator": "GPU",
    "colab": {
      "collapsed_sections": [
        "qLX9aj3eFCPB"
      ],
      "provenance": [],
      "include_colab_link": true
    },
    "kernelspec": {
      "display_name": "Python 3 (ipykernel)",
      "language": "python",
      "name": "python3"
    },
    "language_info": {
      "codemirror_mode": {
        "name": "ipython",
        "version": 3
      },
      "file_extension": ".py",
      "mimetype": "text/x-python",
      "name": "python",
      "nbconvert_exporter": "python",
      "pygments_lexer": "ipython3",
      "version": "3.10.7"
    }
  },
  "nbformat": 4,
  "nbformat_minor": 0
}